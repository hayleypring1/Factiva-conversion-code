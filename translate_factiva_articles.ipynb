{
 "cells": [
  {
   "cell_type": "code",
   "execution_count": null,
   "id": "4a687025-7dbf-441e-b27b-b88059b72c86",
   "metadata": {
    "tags": []
   },
   "outputs": [],
   "source": [
    "pip install openai-whisper\n"
   ]
  },
  {
   "cell_type": "code",
   "execution_count": null,
   "id": "4a0826ca-b324-49fd-a62f-69c4c8a25199",
   "metadata": {
    "tags": []
   },
   "outputs": [],
   "source": [
    "pip install faster-whisper pandas\n"
   ]
  },
  {
   "cell_type": "code",
   "execution_count": null,
   "id": "8b15d650-566e-4b22-8f3b-9e366185f903",
   "metadata": {
    "tags": []
   },
   "outputs": [],
   "source": [
    "!pip install deep-translator\n",
    "\n",
    "from deep_translator import GoogleTranslator\n",
    "import pandas as pd\n",
    "\n"
   ]
  },
  {
   "cell_type": "code",
   "execution_count": null,
   "id": "bcabcc28-8c2b-4f6d-838a-b4ef7a0ab5fd",
   "metadata": {},
   "outputs": [],
   "source": [
    "import pandas as pd\n",
    "\n",
    "df = pd.read_csv(\"Brazil_articles_2016_2020.csv\")  # Replace with your actual filename\n",
    "df.head()\n"
   ]
  },
  {
   "cell_type": "code",
   "execution_count": 9,
   "id": "da64564b-994b-4072-b1f7-3a4d4f7f7d4f",
   "metadata": {
    "tags": []
   },
   "outputs": [
    {
     "name": "stdout",
     "output_type": "stream",
     "text": [
      "Requirement already satisfied: tqdm in ./anaconda3/lib/python3.11/site-packages (4.65.0)\n",
      "Note: you may need to restart the kernel to use updated packages.\n"
     ]
    }
   ],
   "source": [
    "pip install tqdm\n"
   ]
  },
  {
   "cell_type": "code",
   "execution_count": 11,
   "id": "8570fddb-a328-47fa-995f-de4194016a3d",
   "metadata": {
    "tags": []
   },
   "outputs": [],
   "source": [
    "from tqdm.notebook import tqdm\n",
    "tqdm.pandas()\n"
   ]
  },
  {
   "cell_type": "code",
   "execution_count": 12,
   "id": "dd384776-d2cc-49db-81cf-5da93125b8e4",
   "metadata": {
    "tags": []
   },
   "outputs": [],
   "source": [
    "from deep_translator import GoogleTranslator\n",
    "import pandas as pd\n",
    "import textwrap\n",
    "\n",
    "def safe_translate(text, max_chars=4900):\n",
    "    try:\n",
    "        if pd.isnull(text):\n",
    "            return \"\"\n",
    "        # Split into chunks if too long\n",
    "        if len(text) > max_chars:\n",
    "            chunks = textwrap.wrap(text, max_chars, break_long_words=False, break_on_hyphens=False)\n",
    "            translated_chunks = [GoogleTranslator(source='pt', target='en').translate(chunk) for chunk in chunks]\n",
    "            return \" \".join(translated_chunks)\n",
    "        else:\n",
    "            return GoogleTranslator(source='pt', target='en').translate(text)\n",
    "    except Exception as e:\n",
    "        return f\"[Translation Error: {e}]\"\n"
   ]
  },
  {
   "cell_type": "code",
   "execution_count": 13,
   "id": "55559e66-8291-4c2e-b85b-6c4136f53e54",
   "metadata": {
    "tags": []
   },
   "outputs": [
    {
     "data": {
      "application/vnd.jupyter.widget-view+json": {
       "model_id": "2e1e52de7f094685a0f6ae21a0e2d5b7",
       "version_major": 2,
       "version_minor": 0
      },
      "text/plain": [
       "  0%|          | 0/1446 [00:00<?, ?it/s]"
      ]
     },
     "metadata": {},
     "output_type": "display_data"
    }
   ],
   "source": [
    "df['TD_english'] = df['TD'].progress_apply(safe_translate)\n"
   ]
  },
  {
   "cell_type": "code",
   "execution_count": 14,
   "id": "6baf90a7-f074-47d5-9fbe-47a8fa295a50",
   "metadata": {
    "tags": []
   },
   "outputs": [],
   "source": [
    "df.to_csv(\"factiva_translated_brazil.csv\", index=False)\n"
   ]
  },
  {
   "cell_type": "code",
   "execution_count": 15,
   "id": "7c3aff2f-cf17-4ec5-b1c4-bb77eff76096",
   "metadata": {
    "tags": []
   },
   "outputs": [],
   "source": [
    "df_id = pd.read_csv(\"Indonesia_articles_2016_2020.csv\")\n",
    "\n"
   ]
  },
  {
   "cell_type": "code",
   "execution_count": 16,
   "id": "e274696c-888d-445d-92d7-1d03da14840f",
   "metadata": {
    "tags": []
   },
   "outputs": [],
   "source": [
    "def safe_translate_id(text, max_chars=4900):\n",
    "    try:\n",
    "        if pd.isnull(text):\n",
    "            return \"\"\n",
    "        if len(text) > max_chars:\n",
    "            chunks = textwrap.wrap(text, max_chars, break_long_words=False, break_on_hyphens=False)\n",
    "            translated_chunks = [GoogleTranslator(source='id', target='en').translate(chunk) for chunk in chunks]\n",
    "            return \" \".join(translated_chunks)\n",
    "        else:\n",
    "            return GoogleTranslator(source='id', target='en').translate(text)\n",
    "    except Exception as e:\n",
    "        return f\"[Translation Error: {e}]\"\n"
   ]
  },
  {
   "cell_type": "code",
   "execution_count": 17,
   "id": "f0985496-3572-4087-bb33-6de4c54a4a77",
   "metadata": {
    "tags": []
   },
   "outputs": [
    {
     "data": {
      "application/vnd.jupyter.widget-view+json": {
       "model_id": "6ab9e0e1f7d7456693549b73f79979fa",
       "version_major": 2,
       "version_minor": 0
      },
      "text/plain": [
       "  0%|          | 0/1297 [00:00<?, ?it/s]"
      ]
     },
     "metadata": {},
     "output_type": "display_data"
    }
   ],
   "source": [
    "from tqdm.notebook import tqdm\n",
    "tqdm.pandas()\n",
    "\n",
    "df_id[\"TD_english\"] = df_id[\"TD\"].progress_apply(safe_translate_id)\n"
   ]
  },
  {
   "cell_type": "code",
   "execution_count": 18,
   "id": "c0f4a4a3-c2b5-4bc6-b836-bad248f70f02",
   "metadata": {
    "tags": []
   },
   "outputs": [],
   "source": [
    "df_id.to_csv(\"factiva_indonesian_articles.csv\", index=False)\n"
   ]
  },
  {
   "cell_type": "code",
   "execution_count": null,
   "id": "28b69278-e080-415b-bbff-bf22c6b026ea",
   "metadata": {},
   "outputs": [],
   "source": []
  }
 ],
 "metadata": {
  "kernelspec": {
   "display_name": "Python 3 (ipykernel)",
   "language": "python",
   "name": "python3"
  },
  "language_info": {
   "codemirror_mode": {
    "name": "ipython",
    "version": 3
   },
   "file_extension": ".py",
   "mimetype": "text/x-python",
   "name": "python",
   "nbconvert_exporter": "python",
   "pygments_lexer": "ipython3",
   "version": "3.11.5"
  }
 },
 "nbformat": 4,
 "nbformat_minor": 5
}
